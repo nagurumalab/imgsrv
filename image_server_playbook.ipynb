{
 "cells": [
  {
   "cell_type": "code",
   "execution_count": 1,
   "id": "0a997b84-98e8-4e28-81dc-4d798c53d20b",
   "metadata": {},
   "outputs": [],
   "source": [
    "import requests\n",
    "from pprint import pprint"
   ]
  },
  {
   "cell_type": "code",
   "execution_count": 2,
   "id": "1b5a4327-b151-48de-bd84-a6d90af1f069",
   "metadata": {},
   "outputs": [],
   "source": [
    "baseurl = \"http://localhost:8001\""
   ]
  },
  {
   "cell_type": "code",
   "execution_count": 3,
   "id": "abdacdcd-590b-4aef-afd0-746e7e80455b",
   "metadata": {},
   "outputs": [
    {
     "name": "stdout",
     "output_type": "stream",
     "text": [
      "Response -  200\n",
      "Upload ID -  25d6f605-4f26-4be6-a1d0-ef37e49d1ab8\n"
     ]
    }
   ],
   "source": [
    "#header = {\"x-api-key\" : }\n",
    "expiry = 120\n",
    "payload = {\n",
    "    \"expiry\" : expiry\n",
    "}\n",
    "url = \"/api/generate-upload-link\"\n",
    "response = requests.post(baseurl + url, json=payload)\n",
    "print(\"Response - \", response.status_code)\n",
    "upload_id = None\n",
    "if response.ok:\n",
    "    response = response.json()\n",
    "    upload_id = response[\"upload_id\"]\n",
    "print(\"Upload ID - \", upload_id)"
   ]
  },
  {
   "cell_type": "code",
   "execution_count": 4,
   "id": "01a627d7-df5b-4518-92f9-4592a1101c12",
   "metadata": {},
   "outputs": [
    {
     "name": "stdout",
     "output_type": "stream",
     "text": [
      "Calling -  http://localhost:8001/api/upload-images/25d6f605-4f26-4be6-a1d0-ef37e49d1ab8\n",
      "Response -  200\n",
      "Response Json {'Canon_40D.jpg': '6bfdabd4fc33d112283c147acccc574e770bbe6fbdbc3d4da968ba7b606ecc2f', 'PXL_20240505_213734915.jpg': '985a2adae094e8178e6333733b09c3ca38fb07386e5fd45f8d515eba5b10443a'}\n",
      "Canon_40D.jpg  -  6bfdabd4fc33d112283c147acccc574e770bbe6fbdbc3d4da968ba7b606ecc2f\n",
      "PXL_20240505_213734915.jpg  -  985a2adae094e8178e6333733b09c3ca38fb07386e5fd45f8d515eba5b10443a\n"
     ]
    }
   ],
   "source": [
    "image_files = [\n",
    "    \"sample_images/Canon_40D.jpg\", \"sample_images/PXL_20240505_213734915.jpg\"\n",
    "]\n",
    "upload_files = [(\"image_files\", open(f, \"rb\")) for f in image_files]\n",
    "\n",
    "url = f\"/api/upload-images/{upload_id}\"\n",
    "print(\"Calling - \", baseurl + url)\n",
    "response = requests.post(baseurl + url, files=upload_files)\n",
    "for _,f in upload_files:\n",
    "    f.close()\n",
    "print(\"Response - \", response.status_code)\n",
    "response_data = response.json()\n",
    "print(\"Response Json\", response_data)\n",
    "images = {}\n",
    "if response.ok:\n",
    "    images = response_data\n",
    "    for k, v in images.items():\n",
    "        print(k, \" - \", v)"
   ]
  },
  {
   "cell_type": "code",
   "execution_count": 6,
   "id": "cb235daf-ff43-4e5e-bf27-806dd3dd1e97",
   "metadata": {},
   "outputs": [
    {
     "name": "stdout",
     "output_type": "stream",
     "text": [
      "Displaying image_name -  Canon_40D.jpg  image_id -  6bfdabd4fc33d112283c147acccc574e770bbe6fbdbc3d4da968ba7b606ecc2f\n"
     ]
    },
    {
     "data": {
      "text/html": [
       "<img src=\"http://localhost:8001/api/images/6bfdabd4fc33d112283c147acccc574e770bbe6fbdbc3d4da968ba7b606ecc2f\" width=\"200\" class=\"unconfined\"/>"
      ],
      "text/plain": [
       "<IPython.core.display.Image object>"
      ]
     },
     "metadata": {},
     "output_type": "display_data"
    },
    {
     "name": "stdout",
     "output_type": "stream",
     "text": [
      "Displaying image_name -  PXL_20240505_213734915.jpg  image_id -  985a2adae094e8178e6333733b09c3ca38fb07386e5fd45f8d515eba5b10443a\n"
     ]
    },
    {
     "data": {
      "text/html": [
       "<img src=\"http://localhost:8001/api/images/985a2adae094e8178e6333733b09c3ca38fb07386e5fd45f8d515eba5b10443a\" width=\"200\" class=\"unconfined\"/>"
      ],
      "text/plain": [
       "<IPython.core.display.Image object>"
      ]
     },
     "metadata": {},
     "output_type": "display_data"
    }
   ],
   "source": [
    "from IPython.display import Image, display\n",
    "url = \"/api/images/\"\n",
    "for image_name, image_id in images.items():\n",
    "    print(\"Displaying image_name - \", image_name, \" image_id - \", image_id)\n",
    "    display(Image(url=baseurl + url + image_id, width=200, unconfined=True))"
   ]
  }
 ],
 "metadata": {
  "kernelspec": {
   "display_name": "Python 3 (ipykernel)",
   "language": "python",
   "name": "python3"
  },
  "language_info": {
   "codemirror_mode": {
    "name": "ipython",
    "version": 3
   },
   "file_extension": ".py",
   "mimetype": "text/x-python",
   "name": "python",
   "nbconvert_exporter": "python",
   "pygments_lexer": "ipython3",
   "version": "3.11.2"
  }
 },
 "nbformat": 4,
 "nbformat_minor": 5
}
