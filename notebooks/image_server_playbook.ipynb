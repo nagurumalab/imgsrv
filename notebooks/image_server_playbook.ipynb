{
 "cells": [
  {
   "cell_type": "markdown",
   "id": "50ff4927-cb7b-4a93-b7ba-87702176f325",
   "metadata": {},
   "source": [
    "# Imports"
   ]
  },
  {
   "cell_type": "code",
   "execution_count": null,
   "id": "54746d40-b871-4532-92fe-a43125d57935",
   "metadata": {},
   "outputs": [],
   "source": [
    "import requests\n",
    "from pprint import pprint"
   ]
  },
  {
   "cell_type": "markdown",
   "id": "963919fe-05a0-4259-aa09-878ab01c649b",
   "metadata": {},
   "source": [
    "# Initialize\n",
    "Note: \n",
    "1. `API_KEY` should be the same as the one that was given docker-compose env variable\n",
    "2. `baseurl` refers the internal name of the docker container with docker-compose's network. This has be changed to `localhost` if the notebook is run outside the jupyter container env."
   ]
  },
  {
   "cell_type": "code",
   "execution_count": null,
   "id": "1b5a4327-b151-48de-bd84-a6d90af1f069",
   "metadata": {},
   "outputs": [],
   "source": [
    "baseurl = \"http://image_service:8000\"\n",
    "API_KEY = \"foobar\"\n",
    "headers = {\"x-api-key\" : API_KEY}"
   ]
  },
  {
   "cell_type": "markdown",
   "id": "0923a015-5283-455f-a1bb-fc8fff5708e3",
   "metadata": {},
   "source": [
    "# Generate Upload Link\n",
    "Takes expiry interval and generates a upload_id that can used to upload the images to. `expiry` - expiry of the requested upload link (in seconds) "
   ]
  },
  {
   "cell_type": "code",
   "execution_count": null,
   "id": "abdacdcd-590b-4aef-afd0-746e7e80455b",
   "metadata": {},
   "outputs": [],
   "source": [
    "expiry = 120\n",
    "payload = {\n",
    "    \"expiry\" : expiry\n",
    "}\n",
    "url = \"/api/generate-upload-link\"\n",
    "response = requests.post(baseurl + url, json=payload, headers=headers)\n",
    "print(\"Response - \", response.status_code)\n",
    "upload_id = None\n",
    "if response.ok:\n",
    "    response = response.json()\n",
    "    upload_id = response[\"upload_id\"]\n",
    "print(\"Upload ID - \", upload_id)"
   ]
  },
  {
   "cell_type": "markdown",
   "id": "5ea88cd2-b4ba-454f-8fc6-dc7b7127b12b",
   "metadata": {},
   "source": [
    "# Upload Images\n",
    "Uploads the images mentioned in the `image_files` variable (as list path to the image files) to the `upload_id` generated from the above step. There are sample images in the `sample_images` folder which is accessible from within this jupyter container. If more images needs to be added, they can be added to `sample_images` folder in the local repo folder and they should be available to this container."
   ]
  },
  {
   "cell_type": "code",
   "execution_count": null,
   "id": "01a627d7-df5b-4518-92f9-4592a1101c12",
   "metadata": {},
   "outputs": [],
   "source": [
    "image_files = [\n",
    "    \"sample_images/58729zbpf682b933xyjhzhge7c.jpg\", \n",
    "    \"sample_images/PXL_20240505_213734915.jpg\", \n",
    "    \"sample_images/PXL_20240506_093352908.jpg\"\n",
    "]\n",
    "upload_files = [(\"image_files\", open(f, \"rb\")) for f in image_files]\n",
    "\n",
    "url = f\"/api/upload-images/{upload_id}\"\n",
    "print(\"Calling - \", baseurl + url)\n",
    "response = requests.post(baseurl + url, files=upload_files, headers=headers)\n",
    "for _,f in upload_files:\n",
    "    f.close()\n",
    "print(\"Response - \", response.status_code)\n",
    "response_data = response.json()\n",
    "print(\"Response Json\", response_data)\n",
    "images = {}\n",
    "if response.ok:\n",
    "    images = response_data\n",
    "    for k, v in images.items():\n",
    "        print(k, \" - \", v)"
   ]
  },
  {
   "cell_type": "markdown",
   "id": "75c531bf-8a2f-4c65-90a2-e0cc979c7a12",
   "metadata": {},
   "source": [
    "# Images API\n",
    "This is a static api. The code blocks fetches the image and renders them if they are there. Else a broken image will be shown if the url is invalid. \n",
    "This does not require authentionca headers. \n",
    "Note: This baseurl is `localhost` in this notebook , as this `Image` and `display` function directly calls from the browser."
   ]
  },
  {
   "cell_type": "code",
   "execution_count": null,
   "id": "cb235daf-ff43-4e5e-bf27-806dd3dd1e97",
   "metadata": {},
   "outputs": [],
   "source": [
    "from IPython.display import Image, display\n",
    "url = \"http://localhost:8001/api/images/\"\n",
    "for image_name, image_id in images.items():\n",
    "    print(\"Displaying image_name - \", image_name, \" image_id - \", image_id)\n",
    "    display(Image(url=url + image_id, width=200, unconfined=True))"
   ]
  },
  {
   "cell_type": "markdown",
   "id": "4253794c-b76f-4de2-932c-1bd155dee34e",
   "metadata": {},
   "source": [
    "# Stats\n",
    "Stats is a straightforward api with no parameters. It fetches pre set list of stats namely `Image Upload Frequency Per Day (last 30 days)` , `Most Popular Image Format` and `Top 10 Popular Camera Models`"
   ]
  },
  {
   "cell_type": "code",
   "execution_count": null,
   "id": "bccbb4aa-f40c-4279-852e-986e4a3216f1",
   "metadata": {},
   "outputs": [],
   "source": [
    "url = \"/api/stats\"\n",
    "response = requests.get(baseurl + url, headers=headers)\n",
    "if response.ok:\n",
    "    stats = response.json()\n",
    "    pprint(stats)"
   ]
  }
 ],
 "metadata": {
  "kernelspec": {
   "display_name": "Python 3 (ipykernel)",
   "language": "python",
   "name": "python3"
  },
  "language_info": {
   "codemirror_mode": {
    "name": "ipython",
    "version": 3
   },
   "file_extension": ".py",
   "mimetype": "text/x-python",
   "name": "python",
   "nbconvert_exporter": "python",
   "pygments_lexer": "ipython3",
   "version": "3.11.6"
  }
 },
 "nbformat": 4,
 "nbformat_minor": 5
}
