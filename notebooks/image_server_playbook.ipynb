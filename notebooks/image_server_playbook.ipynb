{
 "cells": [
  {
   "cell_type": "code",
   "execution_count": 20,
   "id": "0a997b84-98e8-4e28-81dc-4d798c53d20b",
   "metadata": {},
   "outputs": [],
   "source": [
    "import requests\n",
    "from pprint import pprint"
   ]
  },
  {
   "cell_type": "code",
   "execution_count": 21,
   "id": "1b5a4327-b151-48de-bd84-a6d90af1f069",
   "metadata": {},
   "outputs": [],
   "source": [
    "baseurl = \"http://image_service:8000\"\n",
    "API_KEY = \"foobar\"\n",
    "headers = {\"x-api-key\" : API_KEY}"
   ]
  },
  {
   "cell_type": "code",
   "execution_count": 22,
   "id": "abdacdcd-590b-4aef-afd0-746e7e80455b",
   "metadata": {},
   "outputs": [
    {
     "name": "stdout",
     "output_type": "stream",
     "text": [
      "Response -  200\n",
      "Upload ID -  2643772f-5cbd-4b72-bdfa-9a10c72c6fec\n"
     ]
    }
   ],
   "source": [
    "expiry = 120\n",
    "payload = {\n",
    "    \"expiry\" : expiry\n",
    "}\n",
    "url = \"/api/generate-upload-link\"\n",
    "response = requests.post(baseurl + url, json=payload, headers=headers)\n",
    "print(\"Response - \", response.status_code)\n",
    "upload_id = None\n",
    "if response.ok:\n",
    "    response = response.json()\n",
    "    upload_id = response[\"upload_id\"]\n",
    "print(\"Upload ID - \", upload_id)"
   ]
  },
  {
   "cell_type": "code",
   "execution_count": 23,
   "id": "01a627d7-df5b-4518-92f9-4592a1101c12",
   "metadata": {},
   "outputs": [
    {
     "name": "stdout",
     "output_type": "stream",
     "text": [
      "Calling -  http://image_service:8000/api/upload-images/2643772f-5cbd-4b72-bdfa-9a10c72c6fec\n",
      "Response -  200\n",
      "Response Json {'58729zbpf682b933xyjhzhge7c.jpg': '99c9de8712749b15ae7662333f04c07e747a1497fd7fcd3b80c0b9682035b184', 'PXL_20240505_213734915.jpg': '985a2adae094e8178e6333733b09c3ca38fb07386e5fd45f8d515eba5b10443a', 'PXL_20240506_093352908.jpg': '134811388d45f26f3889497c34284d418fb4278a4a49dc5e10ee7ae32a1f0af9'}\n",
      "58729zbpf682b933xyjhzhge7c.jpg  -  99c9de8712749b15ae7662333f04c07e747a1497fd7fcd3b80c0b9682035b184\n",
      "PXL_20240505_213734915.jpg  -  985a2adae094e8178e6333733b09c3ca38fb07386e5fd45f8d515eba5b10443a\n",
      "PXL_20240506_093352908.jpg  -  134811388d45f26f3889497c34284d418fb4278a4a49dc5e10ee7ae32a1f0af9\n"
     ]
    }
   ],
   "source": [
    "image_files = [\n",
    "    \"sample_images/58729zbpf682b933xyjhzhge7c.jpg\", \n",
    "    \"sample_images/PXL_20240505_213734915.jpg\", \n",
    "    \"sample_images/PXL_20240506_093352908.jpg\"\n",
    "]\n",
    "upload_files = [(\"image_files\", open(f, \"rb\")) for f in image_files]\n",
    "\n",
    "url = f\"/api/upload-images/{upload_id}\"\n",
    "print(\"Calling - \", baseurl + url)\n",
    "response = requests.post(baseurl + url, files=upload_files, headers=headers)\n",
    "for _,f in upload_files:\n",
    "    f.close()\n",
    "print(\"Response - \", response.status_code)\n",
    "response_data = response.json()\n",
    "print(\"Response Json\", response_data)\n",
    "images = {}\n",
    "if response.ok:\n",
    "    images = response_data\n",
    "    for k, v in images.items():\n",
    "        print(k, \" - \", v)"
   ]
  },
  {
   "cell_type": "code",
   "execution_count": 24,
   "id": "cb235daf-ff43-4e5e-bf27-806dd3dd1e97",
   "metadata": {},
   "outputs": [
    {
     "name": "stdout",
     "output_type": "stream",
     "text": [
      "Displaying image_name -  58729zbpf682b933xyjhzhge7c.jpg  image_id -  99c9de8712749b15ae7662333f04c07e747a1497fd7fcd3b80c0b9682035b184\n"
     ]
    },
    {
     "data": {
      "text/html": [
       "<img src=\"http://localhost:8001/api/images/99c9de8712749b15ae7662333f04c07e747a1497fd7fcd3b80c0b9682035b184\" width=\"200\" class=\"unconfined\"/>"
      ],
      "text/plain": [
       "<IPython.core.display.Image object>"
      ]
     },
     "metadata": {},
     "output_type": "display_data"
    },
    {
     "name": "stdout",
     "output_type": "stream",
     "text": [
      "Displaying image_name -  PXL_20240505_213734915.jpg  image_id -  985a2adae094e8178e6333733b09c3ca38fb07386e5fd45f8d515eba5b10443a\n"
     ]
    },
    {
     "data": {
      "text/html": [
       "<img src=\"http://localhost:8001/api/images/985a2adae094e8178e6333733b09c3ca38fb07386e5fd45f8d515eba5b10443a\" width=\"200\" class=\"unconfined\"/>"
      ],
      "text/plain": [
       "<IPython.core.display.Image object>"
      ]
     },
     "metadata": {},
     "output_type": "display_data"
    },
    {
     "name": "stdout",
     "output_type": "stream",
     "text": [
      "Displaying image_name -  PXL_20240506_093352908.jpg  image_id -  134811388d45f26f3889497c34284d418fb4278a4a49dc5e10ee7ae32a1f0af9\n"
     ]
    },
    {
     "data": {
      "text/html": [
       "<img src=\"http://localhost:8001/api/images/134811388d45f26f3889497c34284d418fb4278a4a49dc5e10ee7ae32a1f0af9\" width=\"200\" class=\"unconfined\"/>"
      ],
      "text/plain": [
       "<IPython.core.display.Image object>"
      ]
     },
     "metadata": {},
     "output_type": "display_data"
    }
   ],
   "source": [
    "from IPython.display import Image, display\n",
    "url = \"http://localhost:8001/api/images/\"\n",
    "for image_name, image_id in images.items():\n",
    "    print(\"Displaying image_name - \", image_name, \" image_id - \", image_id)\n",
    "    display(Image(url=url + image_id, width=200, unconfined=True))"
   ]
  },
  {
   "cell_type": "code",
   "execution_count": 25,
   "id": "bccbb4aa-f40c-4279-852e-986e4a3216f1",
   "metadata": {},
   "outputs": [
    {
     "name": "stdout",
     "output_type": "stream",
     "text": [
      "{'Image Upload Frequency Per Day (last 30 days)': {'2024-05-06': 3},\n",
      " 'Most Popular Image Format': 'JPEG',\n",
      " 'Top 10 Popular Camera Models': ['Google - Pixel 6a', 'SONY - ILCE-7M2']}\n"
     ]
    }
   ],
   "source": [
    "url = \"/api/stats\"\n",
    "response = requests.get(baseurl + url, headers=headers)\n",
    "if response.ok:\n",
    "    stats = response.json()\n",
    "    pprint(stats)"
   ]
  },
  {
   "cell_type": "code",
   "execution_count": null,
   "id": "4b9e074e-23c5-483a-a348-df954fbdf549",
   "metadata": {},
   "outputs": [],
   "source": []
  }
 ],
 "metadata": {
  "kernelspec": {
   "display_name": "Python 3 (ipykernel)",
   "language": "python",
   "name": "python3"
  },
  "language_info": {
   "codemirror_mode": {
    "name": "ipython",
    "version": 3
   },
   "file_extension": ".py",
   "mimetype": "text/x-python",
   "name": "python",
   "nbconvert_exporter": "python",
   "pygments_lexer": "ipython3",
   "version": "3.11.6"
  }
 },
 "nbformat": 4,
 "nbformat_minor": 5
}
